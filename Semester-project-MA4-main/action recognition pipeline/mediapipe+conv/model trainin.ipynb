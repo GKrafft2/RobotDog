{
 "cells": [
  {
   "cell_type": "code",
   "execution_count": 22,
   "metadata": {},
   "outputs": [],
   "source": [
    "import numpy as np\n",
    "import os\n",
    "import torch\n",
    "import torch.nn as nn\n",
    "import torch.optim as optim\n",
    "from torch.utils.data import Dataset, DataLoader\n",
    "from torch.utils.data.sampler import SubsetRandomSampler\n",
    "import torch.nn.functional as F\n",
    "\n",
    "PATH = \"data/\"\n"
   ]
  },
  {
   "attachments": {},
   "cell_type": "markdown",
   "metadata": {},
   "source": [
    "# Normailze the data over x,y and z"
   ]
  },
  {
   "cell_type": "code",
   "execution_count": 23,
   "metadata": {},
   "outputs": [],
   "source": [
    "def compute_x_y_z_mean_and_std(array):\n",
    "    \"\"\"Returns list of means and stds for each channel of the array.\"\"\"\n",
    "    means = []\n",
    "    stds = []\n",
    "    for i in range(3):\n",
    "        channel = array[:,:,i]\n",
    "        mean = np.nanmean(channel)\n",
    "        std = np.nanstd(channel)\n",
    "        means.append(mean)\n",
    "        stds.append(std)\n",
    "    return means, stds\n"
   ]
  },
  {
   "attachments": {},
   "cell_type": "markdown",
   "metadata": {},
   "source": [
    "## Compute the dataset mean and std"
   ]
  },
  {
   "cell_type": "code",
   "execution_count": 54,
   "metadata": {},
   "outputs": [],
   "source": [
    "general_mean = np.empty((1,3))\n",
    "general_std = np.empty((1,3))\n",
    "\n",
    "general_array = np.empty((75, 20, 3))\n",
    "\n",
    "for folder in os.listdir(PATH):\n",
    "    for file in os.listdir(PATH+folder):\n",
    "        array = np.load(PATH+folder+\"/\"+file, allow_pickle=True)\n",
    "        array = np.clip(array, -10, 10)\n",
    "        # print(array.shape, general_array.shape)\n",
    "        general_array = np.vstack((general_array, array))\n",
    "        # print(folder, file, means, stds)\n",
    "\n",
    "dataset_mean, dataset_std = compute_x_y_z_mean_and_std(general_array)\n",
    "np.save(\"dataset_mean.npy\", np.array(dataset_mean))\n",
    "np.save(\"dataset_std.npy\", np.array(dataset_std))\n"
   ]
  },
  {
   "cell_type": "code",
   "execution_count": 55,
   "metadata": {},
   "outputs": [
    {
     "name": "stdout",
     "output_type": "stream",
     "text": [
      "[0.5100797792276324, 0.5901652573221482, -0.06745970981410983]\n",
      "[0.32703835792440084, 0.44149719393144693, 0.2979549946609368]\n"
     ]
    }
   ],
   "source": [
    "print(dataset_mean)\n",
    "print(dataset_std)"
   ]
  },
  {
   "attachments": {},
   "cell_type": "markdown",
   "metadata": {},
   "source": [
    "# Neural Net"
   ]
  },
  {
   "attachments": {},
   "cell_type": "markdown",
   "metadata": {},
   "source": [
    "## Dataloader"
   ]
  },
  {
   "cell_type": "code",
   "execution_count": 26,
   "metadata": {},
   "outputs": [
    {
     "name": "stdout",
     "output_type": "stream",
     "text": [
      "stay\n",
      "come\n",
      "lie down\n",
      "sit\n"
     ]
    }
   ],
   "source": [
    "for folder in os.listdir(PATH):\n",
    "    print(folder)"
   ]
  },
  {
   "cell_type": "code",
   "execution_count": 27,
   "metadata": {},
   "outputs": [],
   "source": [
    "# Define the dataset class\n",
    "class CustomDataset(Dataset):\n",
    "    def __init__(self, data_folder, dataset_mean, dataset_std):\n",
    "        self.dataset = []\n",
    "        self.labels = []\n",
    "        label_dict = {\"come\":0,\"lie down\":1,\"sit\":2,\"stay\":3}\n",
    "        \n",
    "        for folder in os.listdir(data_folder):\n",
    "            for file in os.listdir(data_folder + folder):\n",
    "                data = np.load(os.path.join(data_folder, folder, file))\n",
    "                data = np.nan_to_num(data)\n",
    "                data = np.clip(data, -10, 10)\n",
    "                # normalize data\n",
    "                data[:,:,0] = (data[:,:,0] - dataset_mean[0])/dataset_std[0]\n",
    "                data[:,:,1] = (data[:,:,1] - dataset_mean[1])/dataset_std[1]\n",
    "                data[:,:,2] = (data[:,:,2] - dataset_mean[2])/dataset_std[2]\n",
    "                self.dataset.append(data)\n",
    "                self.labels.append(label_dict[folder])\n",
    "\n",
    "    def __len__(self):\n",
    "        return len(self.dataset)\n",
    "\n",
    "    def __getitem__(self, index):\n",
    "        data = self.dataset[index]\n",
    "        data = np.transpose(data, (2, 0, 1))\n",
    "        label = self.labels[index]\n",
    "\n",
    "        return torch.tensor(data).float(), torch.tensor(label)\n"
   ]
  },
  {
   "attachments": {},
   "cell_type": "markdown",
   "metadata": {},
   "source": [
    "## Model"
   ]
  },
  {
   "cell_type": "code",
   "execution_count": 56,
   "metadata": {},
   "outputs": [],
   "source": [
    "class ConvNet(nn.Module):\n",
    "    def __init__(self, n_input_channels=3, n_output=4):\n",
    "        super().__init__()\n",
    "    \n",
    "        # input = 75x20x3\n",
    "        self.conv1 = nn.Conv2d(n_input_channels, 32, kernel_size=3, padding=1)\n",
    "        self.bn1 = nn.BatchNorm2d(32)\n",
    "        \n",
    "        # input = 37x10x32\n",
    "        self.conv2 = nn.Conv2d(32, 64, kernel_size=3, padding=1)\n",
    "        self.bn2 = nn.BatchNorm2d(64)\n",
    "        \n",
    "        # input = 18x5x64\n",
    "        self.conv3 = nn.Conv2d(64, 128, kernel_size=3, padding=1)\n",
    "        self.bn3 = nn.BatchNorm2d(128)\n",
    "        \n",
    "        # input = 9x2x128\n",
    "        self.fc1 = nn.Linear(128*9*2, 1024)\n",
    "        self.fc2 = nn.Linear(1024, n_output)\n",
    "\n",
    "    \n",
    "    def forward(self, x):\n",
    "        \n",
    "        x = F.relu(self.bn1(self.conv1(x)))\n",
    "        x = F.max_pool2d(x, 2) #maxpool of kernel size 2 to reduce the size of the images by a factor 2\n",
    "        x = F.relu(self.bn2(self.conv2(x)))\n",
    "        x = F.max_pool2d(x, 2)\n",
    "        x = F.relu(self.bn3(self.conv3(x)))\n",
    "        x = F.max_pool2d(x, 2)\n",
    "        x = x.view(-1, 128*9*2) #flatten\n",
    "        x = F.relu(self.fc1(x))\n",
    "        x = self.fc2(x)\n",
    "\n",
    "        return x\n",
    "    \n",
    "    def predict(self, x):\n",
    "        logits = self.forward(x)\n",
    "        return F.softmax(logits)"
   ]
  },
  {
   "cell_type": "code",
   "execution_count": 57,
   "metadata": {},
   "outputs": [
    {
     "name": "stdout",
     "output_type": "stream",
     "text": [
      "cuda\n"
     ]
    }
   ],
   "source": [
    "# Set the necessary hyperparameters\n",
    "batch_size = 8\n",
    "# learning_rate = 0.001\n",
    "num_epochs = 20\n",
    "num_classes = 4\n",
    "\n",
    "# Set the path to your data folder\n",
    "data_folder = PATH  # Replace with the actual path to your data folder\n",
    "\n",
    "# Create an instance of the dataset\n",
    "dataset = CustomDataset(data_folder, dataset_mean, dataset_std)\n",
    "\n",
    "# Creating data indices for training and validation splits:\n",
    "validation_split = .2\n",
    "shuffle_dataset = True\n",
    "random_seed= 42\n",
    "\n",
    "dataset_size = len(dataset)\n",
    "indices = list(range(dataset_size))\n",
    "split = int(np.floor(validation_split * dataset_size))\n",
    "\n",
    "if shuffle_dataset :\n",
    "    np.random.seed(random_seed)\n",
    "    np.random.shuffle(indices)\n",
    "train_indices, val_indices = indices[split:], indices[:split]\n",
    "\n",
    "# Creating PT data samplers and loaders:\n",
    "train_sampler = SubsetRandomSampler(train_indices)\n",
    "valid_sampler = SubsetRandomSampler(val_indices)\n",
    "\n",
    "train_loader = torch.utils.data.DataLoader(dataset, batch_size=batch_size, \n",
    "                                           sampler=train_sampler)\n",
    "validation_loader = torch.utils.data.DataLoader(dataset, batch_size=batch_size,\n",
    "                                                sampler=valid_sampler)\n",
    "\n",
    "\n",
    "# Specify the device for training\n",
    "device = torch.device(\"cuda\" if torch.cuda.is_available() else \"cpu\")\n",
    "print(device)\n",
    "\n",
    "# Create an instance of the CNN model and move it to the device\n",
    "model = ConvNet().to(device)\n",
    "\n",
    "# Define the loss function and the optimizer\n",
    "criterion = nn.CrossEntropyLoss()\n",
    "optimizer = torch.optim.AdamW(model.parameters(), lr=0.0001, weight_decay=0.00001)"
   ]
  },
  {
   "cell_type": "code",
   "execution_count": 58,
   "metadata": {},
   "outputs": [
    {
     "name": "stdout",
     "output_type": "stream",
     "text": [
      "torch.Size([8, 3, 75, 20])\n",
      "torch.Size([8])\n"
     ]
    }
   ],
   "source": [
    "for data, labels in train_loader:\n",
    "    print(data.shape)\n",
    "    print(labels.shape)\n",
    "    break"
   ]
  },
  {
   "cell_type": "code",
   "execution_count": 59,
   "metadata": {},
   "outputs": [
    {
     "data": {
      "text/plain": [
       "_CudaDeviceProperties(name='NVIDIA GeForce RTX 3050 Laptop GPU', major=8, minor=6, total_memory=3913MB, multi_processor_count=16)"
      ]
     },
     "execution_count": 59,
     "metadata": {},
     "output_type": "execute_result"
    }
   ],
   "source": [
    "torch.cuda.get_device_properties(device)"
   ]
  },
  {
   "cell_type": "code",
   "execution_count": 60,
   "metadata": {},
   "outputs": [
    {
     "name": "stdout",
     "output_type": "stream",
     "text": [
      "Epoch 1/20\n",
      "Training => Loss: 1.1785 | Train Accuracy: 0.5293\n",
      "Epoch 2/20\n",
      "Training => Loss: 0.6657 | Train Accuracy: 0.7527\n",
      "Epoch 3/20\n",
      "Training => Loss: 0.4705 | Train Accuracy: 0.8644\n",
      "Epoch 4/20\n",
      "Training => Loss: 0.3698 | Train Accuracy: 0.8830\n",
      "Epoch 5/20\n",
      "Training => Loss: 0.3184 | Train Accuracy: 0.9043\n",
      "Epoch 6/20\n",
      "Training => Loss: 0.2531 | Train Accuracy: 0.9282\n",
      "Epoch 7/20\n",
      "Training => Loss: 0.1914 | Train Accuracy: 0.9468\n",
      "Epoch 8/20\n",
      "Training => Loss: 0.2099 | Train Accuracy: 0.9362\n",
      "Epoch 9/20\n",
      "Training => Loss: 0.1666 | Train Accuracy: 0.9601\n",
      "Epoch 10/20\n",
      "Training => Loss: 0.1231 | Train Accuracy: 0.9734\n",
      "Epoch 11/20\n",
      "Training => Loss: 0.0967 | Train Accuracy: 0.9787\n",
      "Epoch 12/20\n",
      "Training => Loss: 0.0809 | Train Accuracy: 0.9894\n",
      "Epoch 13/20\n",
      "Training => Loss: 0.0548 | Train Accuracy: 0.9947\n",
      "Epoch 14/20\n",
      "Training => Loss: 0.0420 | Train Accuracy: 0.9947\n",
      "Epoch 15/20\n",
      "Training => Loss: 0.0562 | Train Accuracy: 0.9894\n",
      "Epoch 16/20\n",
      "Training => Loss: 0.0551 | Train Accuracy: 0.9867\n",
      "Epoch 17/20\n",
      "Training => Loss: 0.0417 | Train Accuracy: 0.9894\n",
      "Epoch 18/20\n",
      "Training => Loss: 0.0371 | Train Accuracy: 0.9867\n",
      "Epoch 19/20\n",
      "Training => Loss: 0.0373 | Train Accuracy: 0.9947\n",
      "Epoch 20/20\n",
      "Training => Loss: 0.0251 | Train Accuracy: 0.9947\n"
     ]
    }
   ],
   "source": [
    "# Training loop\n",
    "model.train()\n",
    "total_step = len(train_loader)\n",
    "\n",
    "for epoch in range(num_epochs):\n",
    "    print(f'Epoch {epoch+1}/{num_epochs}')\n",
    "    num_correct = 0\n",
    "    running_epoch_loss = 0.0\n",
    "    for i, (inputs, labels) in enumerate(train_loader):\n",
    "\n",
    "        inputs = inputs.to(device)\n",
    "        labels = labels.to(device)\n",
    "\n",
    "        # print(inputs, labels)\n",
    "\n",
    "        outputs = model(inputs)\n",
    "        loss = criterion(outputs, labels)\n",
    "        optimizer.zero_grad()\n",
    "        loss.backward()\n",
    "        optimizer.step()\n",
    "\n",
    "        y_pred = outputs.argmax(dim = -1)\n",
    "\n",
    "        num_correct += (y_pred == labels).sum().item()\n",
    "        running_epoch_loss += loss.item()\n",
    "\n",
    "    epoch_loss = running_epoch_loss / (len(train_loader))\n",
    "    epoch_acc = num_correct / (len(train_loader.dataset)*(1-validation_split))\n",
    "\n",
    "    print(f'Training => Loss: {epoch_loss:.4f} | Train Accuracy: {epoch_acc:.4f}')"
   ]
  },
  {
   "cell_type": "code",
   "execution_count": 61,
   "metadata": {},
   "outputs": [
    {
     "name": "stdout",
     "output_type": "stream",
     "text": [
      "Test Accuracy: 86.17%\n"
     ]
    }
   ],
   "source": [
    "# Evaluation\n",
    "model.eval()\n",
    "with torch.no_grad():\n",
    "    correct = 0\n",
    "    total = 0\n",
    "    gt = []\n",
    "    pred = []\n",
    "    for inputs , labels in validation_loader:\n",
    "        # Move data to the device\n",
    "        inputs = inputs.to(device)\n",
    "        labels = labels.to(device)\n",
    "\n",
    "        # Forward pass\n",
    "        outputs = model(inputs)\n",
    "\n",
    "        # Get predicted labels\n",
    "        y_pred = outputs.argmax(dim = -1)\n",
    "\n",
    "        gt.extend(labels.tolist())\n",
    "        pred.extend(y_pred.tolist())\n",
    "\n",
    "        # Update total and correct predictions\n",
    "        total += labels.size(0)\n",
    "        correct += (y_pred == labels).sum().item()\n",
    "\n",
    "    # Print accuracy\n",
    "    print('Test Accuracy: {:.2f}%'.format(100 * correct / total))\n",
    "\n",
    "# Save the trained model\n",
    "torch.save(model.state_dict(), 'trained_model.pth')"
   ]
  },
  {
   "cell_type": "code",
   "execution_count": 62,
   "metadata": {},
   "outputs": [
    {
     "data": {
      "image/png": "[encoded data removed]",
      "text/plain": [
       "<Figure size 1000x700 with 2 Axes>"
      ]
     },
     "metadata": {},
     "output_type": "display_data"
    }
   ],
   "source": [
    "import numpy as np\n",
    "import pandas as pd\n",
    "import seaborn as sns\n",
    "import matplotlib.pyplot as plt\n",
    "from sklearn.metrics import confusion_matrix\n",
    "\n",
    "label_dict = {\"come\":0,\"lie down\":1,\"sit\":2,\"stay\":3}\n",
    "\n",
    "def plot_confusion_matrix(true_labels, predicted_labels, classes):\n",
    "    cm = confusion_matrix(true_labels, predicted_labels)\n",
    "    cm_df = pd.DataFrame(cm, index=classes, columns=classes)\n",
    "\n",
    "    plt.figure(figsize=(10, 7))\n",
    "    sns.heatmap(cm_df, annot=True, cmap=\"Blues\", fmt=\"d\")\n",
    "    plt.title(\"Confusion Matrix\")\n",
    "    plt.xlabel(\"Predicted Labels\")\n",
    "    plt.ylabel(\"True Labels\")\n",
    "    plt.show()\n",
    "\n",
    "\n",
    "plot_confusion_matrix(gt, pred, list(label_dict.keys()))"
   ]
  }
 ],
 "metadata": {
  "kernelspec": {
   "display_name": "semproj",
   "language": "python",
   "name": "python3"
  },
  "language_info": {
   "codemirror_mode": {
    "name": "ipython",
    "version": 3
   },
   "file_extension": ".py",
   "mimetype": "text/x-python",
   "name": "python",
   "nbconvert_exporter": "python",
   "pygments_lexer": "ipython3",
   "version": "3.9.16"
  },
  "orig_nbformat": 4,
  "vscode": {
   "interpreter": {
    "hash": "6a1eca162d8244ec663334057c1610a3bae01391a28d85af84dac413dee83203"
   }
  }
 },
 "nbformat": 4,
 "nbformat_minor": 2
}
