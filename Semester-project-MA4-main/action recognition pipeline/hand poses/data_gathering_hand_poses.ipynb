{
 "cells": [
  {
   "cell_type": "code",
   "execution_count": 2,
   "metadata": {},
   "outputs": [
    {
     "name": "stderr",
     "output_type": "stream",
     "text": [
      "2023-06-01 17:28:15.821438: I tensorflow/core/platform/cpu_feature_guard.cc:193] This TensorFlow binary is optimized with oneAPI Deep Neural Network Library (oneDNN) to use the following CPU instructions in performance-critical operations:  AVX2 FMA\n",
      "To enable them in other operations, rebuild TensorFlow with the appropriate compiler flags.\n",
      "2023-06-01 17:28:16.472690: W tensorflow/compiler/xla/stream_executor/platform/default/dso_loader.cc:64] Could not load dynamic library 'libnvinfer.so.7'; dlerror: libnvinfer.so.7: cannot open shared object file: No such file or directory; LD_LIBRARY_PATH: /home/guillaume/anaconda3/envs/semproj/lib/python3.9/site-packages/cv2/../../lib64:/usr/local/cuda-11.7/lib64:\n",
      "2023-06-01 17:28:16.472751: W tensorflow/compiler/xla/stream_executor/platform/default/dso_loader.cc:64] Could not load dynamic library 'libnvinfer_plugin.so.7'; dlerror: libnvinfer_plugin.so.7: cannot open shared object file: No such file or directory; LD_LIBRARY_PATH: /home/guillaume/anaconda3/envs/semproj/lib/python3.9/site-packages/cv2/../../lib64:/usr/local/cuda-11.7/lib64:\n",
      "2023-06-01 17:28:16.472758: W tensorflow/compiler/tf2tensorrt/utils/py_utils.cc:38] TF-TRT Warning: Cannot dlopen some TensorRT libraries. If you would like to use Nvidia GPU with TensorRT, please make sure the missing libraries mentioned above are installed properly.\n"
     ]
    }
   ],
   "source": [
    "import cv2\n",
    "import mediapipe as mp"
   ]
  },
  {
   "cell_type": "code",
   "execution_count": 3,
   "metadata": {},
   "outputs": [],
   "source": [
    "def get_bounding_box(hand_landmarks, image_width, image_height):\n",
    "    x_min = image_width\n",
    "    y_min = image_height\n",
    "    x_max = 0\n",
    "    y_max = 0\n",
    "\n",
    "    for landmark in hand_landmarks.landmark:\n",
    "        x = int(landmark.x * image_width)\n",
    "        y = int(landmark.y * image_height)\n",
    "\n",
    "        if x < x_min:\n",
    "            x_min = x\n",
    "        if y < y_min:\n",
    "            y_min = y\n",
    "        if x > x_max:\n",
    "            x_max = x\n",
    "        if y > y_max:\n",
    "            y_max = y\n",
    "\n",
    "    # Add some padding to the bounding box\n",
    "    padding = 20\n",
    "    x_min -= padding\n",
    "    y_min -= padding\n",
    "    x_max += padding\n",
    "    y_max += padding\n",
    "\n",
    "    # Ensure the bounding box coordinates are within the image boundaries\n",
    "    x_min = max(0, x_min)\n",
    "    y_min = max(0, y_min)\n",
    "    x_max = min(image_width, x_max)\n",
    "    y_max = min(image_height, y_max)\n",
    "\n",
    "    return x_min, y_min, x_max, y_max"
   ]
  },
  {
   "cell_type": "code",
   "execution_count": 4,
   "metadata": {},
   "outputs": [
    {
     "name": "stderr",
     "output_type": "stream",
     "text": [
      "INFO: Created TensorFlow Lite XNNPACK delegate for CPU.\n"
     ]
    }
   ],
   "source": [
    "\n",
    "# Open the webcam\n",
    "cap = cv2.VideoCapture(0)  # 0 represents the default webcam, change it if necessary\n",
    "\n",
    "# Check if the webcam is successfully opened\n",
    "if not cap.isOpened():\n",
    "    print(\"Unable to open the webcam.\")\n",
    "    exit()\n",
    "\n",
    "# Initialize MediaPipe hands\n",
    "mp_hands = mp.solutions.hands\n",
    "hands = mp_hands.Hands()\n",
    "\n",
    "# Counter for captured frames\n",
    "frame_count = 0\n",
    "\n",
    "n_frame = 0\n",
    "while True:\n",
    "    # Read a frame from the webcam\n",
    "    ret, frame = cap.read()\n",
    "\n",
    "    # Check if the frame is successfully read\n",
    "    if not ret:\n",
    "        print(\"Failed to read the frame.\")\n",
    "        break\n",
    "\n",
    "    n_frame += 1\n",
    "    # Flip the frame horizontally for a selfie view\n",
    "    frame = cv2.flip(frame, 1)\n",
    "\n",
    "    # Convert the frame to RGB\n",
    "    frame_rgb = cv2.cvtColor(frame, cv2.COLOR_BGR2RGB)\n",
    "\n",
    "    # Detect hands in the frame\n",
    "    results = hands.process(frame_rgb)\n",
    "\n",
    "    # Check if hands are detected\n",
    "    if results.multi_hand_landmarks:\n",
    "        for hand_landmarks in results.multi_hand_landmarks:\n",
    "            # Extract the bounding box coordinates for the hand\n",
    "            x_min, y_min, x_max, y_max = get_bounding_box(hand_landmarks, frame.shape[1], frame.shape[0])\n",
    "\n",
    "            # Crop the image around the hand region\n",
    "            hand_image = frame[y_min:y_max, x_min:x_max]\n",
    "\n",
    "            # Save the cropped hand image\n",
    "            cv2.imwrite(f\"hands/hands_down/1_{frame_count}.png\", hand_image)\n",
    "\n",
    "            # Increment the frame count\n",
    "            frame_count += 1\n",
    "\n",
    "    # Display the frame in a window named 'Webcam Feed'\n",
    "    cv2.imshow('Webcam Feed', frame)\n",
    "\n",
    "    # Exit the loop if the 'q' key is pressed\n",
    "    if cv2.waitKey(1) == 27:  # 27 is the ASCII code for the Escape key\n",
    "        break\n",
    "\n",
    "    if n_frame > 300:\n",
    "        break\n",
    "\n",
    "# Release the webcam and close the window\n",
    "cap.release()\n",
    "cv2.destroyAllWindows()\n",
    "\n",
    "\n",
    "\n",
    "\n"
   ]
  },
  {
   "cell_type": "code",
   "execution_count": null,
   "metadata": {},
   "outputs": [],
   "source": []
  }
 ],
 "metadata": {
  "kernelspec": {
   "display_name": "tf",
   "language": "python",
   "name": "python3"
  },
  "language_info": {
   "codemirror_mode": {
    "name": "ipython",
    "version": 3
   },
   "file_extension": ".py",
   "mimetype": "text/x-python",
   "name": "python",
   "nbconvert_exporter": "python",
   "pygments_lexer": "ipython3",
   "version": "3.9.16"
  },
  "orig_nbformat": 4
 },
 "nbformat": 4,
 "nbformat_minor": 2
}
