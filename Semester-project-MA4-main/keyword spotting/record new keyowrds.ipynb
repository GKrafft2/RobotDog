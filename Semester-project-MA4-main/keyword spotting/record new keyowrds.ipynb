{
 "cells": [
  {
   "attachments": {},
   "cell_type": "markdown",
   "metadata": {},
   "source": [
    "# New keywords"
   ]
  },
  {
   "attachments": {},
   "cell_type": "markdown",
   "metadata": {},
   "source": [
    "For this project, although we can already do some keyword spotting based on google keywords, we will need to use other keywords that are not present in this dataset. For exmaple words like sit, follow, stand etc.. They could be a big step forward in terms of human robot interaction as using other words wouldnt make much sense for the human. (although a real dog could arguabely interstand any word as a command as long as this word has always been taught him the same)."
   ]
  },
  {
   "attachments": {},
   "cell_type": "markdown",
   "metadata": {},
   "source": [
    "### Record new keywords"
   ]
  },
  {
   "attachments": {},
   "cell_type": "markdown",
   "metadata": {},
   "source": [
    "We will need to create a small dataset of keywords that will be used to train the classifier. A deep learning approach is will not necessarly be the best candidate here due to the limited amount of data I will be able to gather"
   ]
  },
  {
   "cell_type": "code",
   "execution_count": 1,
   "metadata": {},
   "outputs": [],
   "source": [
    "import pyaudio\n",
    "import time\n",
    "import wave\n"
   ]
  },
  {
   "cell_type": "code",
   "execution_count": 2,
   "metadata": {},
   "outputs": [],
   "source": [
    "def list_devices():\n",
    "    p = pyaudio.PyAudio()\n",
    "    device_count = p.get_device_count()\n",
    "    for i in range(0, device_count):\n",
    "        info = p.get_device_info_by_index(i)\n",
    "        print(\"Device {} = {}\".format(info[\"index\"], info[\"name\"]))\n"
   ]
  },
  {
   "cell_type": "code",
   "execution_count": 3,
   "metadata": {},
   "outputs": [
    {
     "name": "stdout",
     "output_type": "stream",
     "text": [
      "Device 0 = Microsoft Sound Mapper - Input\n",
      "Device 1 = Headset Microphone (HyperX Virt\n",
      "Device 2 = VoiceMeeter Aux Output (VB-Audi\n",
      "Device 3 = VoiceMeeter Output (VB-Audio Vo\n",
      "Device 4 = Microphone (2- Aukey-PC-LM1E Au\n",
      "Device 5 = VoiceMeeter VAIO3 Output (VB-Au\n",
      "Device 6 = Microsoft Sound Mapper - Output\n",
      "Device 7 = Headset Earphone (HyperX Virtua\n",
      "Device 8 = C24F390 (NVIDIA High Definition\n",
      "Device 9 = Realtek Digital Output (Realtek\n",
      "Device 10 = VoiceMeeter Aux Input (VB-Audio\n",
      "Device 11 = VoiceMeeter VAIO3 Input (VB-Aud\n",
      "Device 12 = Haut-parleurs (Realtek(R) Audio\n",
      "Device 13 = ROG PG278QR (NVIDIA High Defini\n",
      "Device 14 = VoiceMeeter Input (VB-Audio Voi\n",
      "Device 15 = Pilote de capture audio principal\n",
      "Device 16 = Headset Microphone (HyperX Virtual Surround Sound)\n",
      "Device 17 = VoiceMeeter Aux Output (VB-Audio VoiceMeeter AUX VAIO)\n",
      "Device 18 = VoiceMeeter Output (VB-Audio VoiceMeeter VAIO)\n",
      "Device 19 = Microphone (2- Aukey-PC-LM1E Audio)\n",
      "Device 20 = VoiceMeeter VAIO3 Output (VB-Audio VoiceMeeter VAIO3)\n",
      "Device 21 = PÃ©riphÃ©rique audio principal\n",
      "Device 22 = Headset Earphone (HyperX Virtual Surround Sound)\n",
      "Device 23 = C24F390 (NVIDIA High Definition Audio)\n",
      "Device 24 = Realtek Digital Output (Realtek(R) Audio)\n",
      "Device 25 = VoiceMeeter Aux Input (VB-Audio VoiceMeeter AUX VAIO)\n",
      "Device 26 = VoiceMeeter VAIO3 Input (VB-Audio VoiceMeeter VAIO3)\n",
      "Device 27 = Haut-parleurs (Realtek(R) Audio)\n",
      "Device 28 = ROG PG278QR (NVIDIA High Definition Audio)\n",
      "Device 29 = VoiceMeeter Input (VB-Audio VoiceMeeter VAIO)\n",
      "Device 30 = Headset Earphone (HyperX Virtual Surround Sound)\n",
      "Device 31 = C24F390 (NVIDIA High Definition Audio)\n",
      "Device 32 = Realtek Digital Output (Realtek(R) Audio)\n",
      "Device 33 = VoiceMeeter Aux Input (VB-Audio VoiceMeeter AUX VAIO)\n",
      "Device 34 = VoiceMeeter VAIO3 Input (VB-Audio VoiceMeeter VAIO3)\n",
      "Device 35 = Haut-parleurs (Realtek(R) Audio)\n",
      "Device 36 = ROG PG278QR (NVIDIA High Definition Audio)\n",
      "Device 37 = VoiceMeeter Input (VB-Audio VoiceMeeter VAIO)\n",
      "Device 38 = VoiceMeeter Aux Output (VB-Audio VoiceMeeter AUX VAIO)\n",
      "Device 39 = VoiceMeeter Output (VB-Audio VoiceMeeter VAIO)\n",
      "Device 40 = Microphone (2- Aukey-PC-LM1E Audio)\n",
      "Device 41 = VoiceMeeter VAIO3 Output (VB-Audio VoiceMeeter VAIO3)\n",
      "Device 42 = Headset Microphone (HyperX Virtual Surround Sound)\n",
      "Device 43 = Speakers (Realtek HD Audio output)\n",
      "Device 44 = Microphone (Realtek HD Audio Mic input)\n",
      "Device 45 = SPDIF Out (Realtek HDA SPDIF Out)\n",
      "Device 46 = Mixage stÃ©rÃ©o (Realtek HD Audio Stereo input)\n",
      "Device 47 = EntrÃ©e ligne (Realtek HD Audio Line input)\n",
      "Device 48 = VoiceMeeter Aux Output (VoiceMeeter Aux vaio)\n",
      "Device 49 = Speakers (VoiceMeeter Aux vaio)\n",
      "Device 50 = Microphone sur casque (HyperX Virtual Surround Sound)\n",
      "Device 51 = Casque pour tÃ©lÃ©phone (HyperX Virtual Surround Sound)\n",
      "Device 52 = Microphone (Aukey-PC-LM1E Audio)\n",
      "Device 53 = Output (NVIDIA High Definition Audio)\n",
      "Device 54 = Output (NVIDIA High Definition Audio)\n",
      "Device 55 = VoiceMeeter VAIO3 Output (VoiceMeeter VAIO3)\n",
      "Device 56 = Speakers (VoiceMeeter VAIO3)\n",
      "Device 57 = VoiceMeeter Output (VoiceMeeter vaio)\n",
      "Device 58 = Speakers (VoiceMeeter vaio)\n"
     ]
    }
   ],
   "source": [
    "list_devices()"
   ]
  },
  {
   "cell_type": "code",
   "execution_count": 4,
   "metadata": {},
   "outputs": [
    {
     "name": "stdout",
     "output_type": "stream",
     "text": [
      "recording starts in 3 seconds\n",
      "2\n",
      "1\n",
      "recording\n",
      "finished recording\n"
     ]
    }
   ],
   "source": [
    "# Records audio from microphone for 1 sec at 16kHz sampling rate\n",
    "\n",
    "PATH = \"custom_kw/\"\n",
    "keyword = f\"sit {time.time()}\"\n",
    "CHUNK = 320  # number of audio samples per frame (arbitrary value)\n",
    "FORMAT = pyaudio.paInt16  # audio format\n",
    "CHANNELS = 1  # mono audio\n",
    "RATE = 16000  # sampling rate in Hz\n",
    "RECORD_SECONDS = 1  # duration of each recording in seconds\n",
    "FILE_NAME = PATH+f\"{keyword}.wav\"\n",
    "\n",
    "frames = []\n",
    "\n",
    "print(\"recording starts in 3 seconds\")\n",
    "time.sleep(1)\n",
    "print(\"2\")\n",
    "time.sleep(1)\n",
    "print(\"1\")\n",
    "time.sleep(1)\n",
    "\n",
    "p = pyaudio.PyAudio()\n",
    "stream = p.open(format=FORMAT,\n",
    "                    channels=CHANNELS,\n",
    "                    rate=RATE,\n",
    "                    input=True,\n",
    "                    frames_per_buffer=CHUNK,\n",
    "                    input_device_index=1)\n",
    "print(\"recording\")\n",
    "for i in range(0, int(RATE / CHUNK * RECORD_SECONDS)):\n",
    "    data = stream.read(CHUNK)\n",
    "    frames.append(data)\n",
    "print(\"finished recording\")\n",
    "\n",
    "stream.stop_stream()\n",
    "stream.close()\n",
    "p.terminate()\n",
    "\n",
    "waveFile = wave.open(FILE_NAME, 'wb')\n",
    "waveFile.setnchannels(CHANNELS)\n",
    "waveFile.setsampwidth(p.get_sample_size(FORMAT))\n",
    "waveFile.setframerate(RATE)\n",
    "waveFile.writeframes(b''.join(frames))\n",
    "waveFile.close()\n"
   ]
  },
  {
   "attachments": {},
   "cell_type": "markdown",
   "metadata": {},
   "source": [
    "### Create dataset from current audio folder"
   ]
  },
  {
   "cell_type": "code",
   "execution_count": null,
   "metadata": {},
   "outputs": [],
   "source": [
    "from huggingface_hub import notebook_login\n",
    "\n",
    "notebook_login()"
   ]
  },
  {
   "cell_type": "code",
   "execution_count": 5,
   "metadata": {},
   "outputs": [
    {
     "name": "stderr",
     "output_type": "stream",
     "text": [
      "c:\\Users\\eliot\\anaconda3\\envs\\text2speech\\lib\\site-packages\\tqdm\\auto.py:21: TqdmWarning: IProgress not found. Please update jupyter and ipywidgets. See https://ipywidgets.readthedocs.io/en/stable/user_install.html\n",
      "  from .autonotebook import tqdm as notebook_tqdm\n"
     ]
    }
   ],
   "source": [
    "import os\n",
    "import tqdm\n",
    "from pathlib import Path\n",
    "import pandas as pd\n",
    "import torchaudio\n",
    "import librosa\n",
    "import IPython.display as ipd\n",
    "import numpy as np\n",
    "from sklearn.model_selection import train_test_split\n",
    "from datasets import load_dataset, load_metric\n",
    "\n",
    "PATH_TO_AUDIO = \"google_speech_recognition_v2\""
   ]
  },
  {
   "attachments": {},
   "cell_type": "markdown",
   "metadata": {},
   "source": [
    "source: https://colab.research.google.com/github/m3hrdadfi/soxan/blob/main/notebooks/Emotion_recognition_in_Greek_speech_using_Wav2Vec2.ipynb#scrollTo=-gh7fQ1XEpC7"
   ]
  },
  {
   "cell_type": "code",
   "execution_count": 6,
   "metadata": {},
   "outputs": [],
   "source": [
    "data = []\n",
    "\n",
    "for subdir, dirs, files in os.walk(PATH_TO_AUDIO):\n",
    "    for file in files:\n",
    "        if file.endswith(\".wav\"):\n",
    "            name = file.split(\".\")[0]\n",
    "            label = subdir.split(\"\\\\\")[-1]\n",
    "            path = os.path.join(subdir, file)\n",
    "            data.append({\n",
    "                \"name\": name,\n",
    "                \"path\": path,\n",
    "                \"keyword\": label,\n",
    "            })"
   ]
  },
  {
   "cell_type": "code",
   "execution_count": 7,
   "metadata": {},
   "outputs": [
    {
     "name": "stdout",
     "output_type": "stream",
     "text": [
      "Labels:  ['backward' 'bed' 'bird' 'cat' 'dog' 'down' 'eight' 'five' 'follow'\n",
      " 'forward' 'four' 'go' 'happy' 'house' 'learn' 'left' 'marvin' 'nine' 'no'\n",
      " 'off' 'on' 'one' 'right' 'seven' 'sheila' 'six' 'stop' 'three' 'tree'\n",
      " 'two' 'up' 'visual' 'wow' 'yes' 'zero' '_background_noise_']\n",
      "\n"
     ]
    }
   ],
   "source": [
    "df = pd.DataFrame(data)\n",
    "print(\"Labels: \", df[\"keyword\"].unique())\n",
    "print()\n",
    "#df.groupby(\"keyword\").count()[[\"path\"]]"
   ]
  },
  {
   "cell_type": "code",
   "execution_count": 8,
   "metadata": {},
   "outputs": [
    {
     "name": "stdout",
     "output_type": "stream",
     "text": [
      "Labels:  ['down' 'follow' 'go' 'happy' 'marvin' 'stop']\n",
      "\n"
     ]
    },
    {
     "data": {
      "text/html": [
       "<div>\n",
       "<style scoped>\n",
       "    .dataframe tbody tr th:only-of-type {\n",
       "        vertical-align: middle;\n",
       "    }\n",
       "\n",
       "    .dataframe tbody tr th {\n",
       "        vertical-align: top;\n",
       "    }\n",
       "\n",
       "    .dataframe thead th {\n",
       "        text-align: right;\n",
       "    }\n",
       "</style>\n",
       "<table border=\"1\" class=\"dataframe\">\n",
       "  <thead>\n",
       "    <tr style=\"text-align: right;\">\n",
       "      <th></th>\n",
       "      <th>path</th>\n",
       "    </tr>\n",
       "    <tr>\n",
       "      <th>keyword</th>\n",
       "      <th></th>\n",
       "    </tr>\n",
       "  </thead>\n",
       "  <tbody>\n",
       "    <tr>\n",
       "      <th>down</th>\n",
       "      <td>3917</td>\n",
       "    </tr>\n",
       "    <tr>\n",
       "      <th>follow</th>\n",
       "      <td>1579</td>\n",
       "    </tr>\n",
       "    <tr>\n",
       "      <th>go</th>\n",
       "      <td>3880</td>\n",
       "    </tr>\n",
       "    <tr>\n",
       "      <th>happy</th>\n",
       "      <td>2054</td>\n",
       "    </tr>\n",
       "    <tr>\n",
       "      <th>marvin</th>\n",
       "      <td>2100</td>\n",
       "    </tr>\n",
       "    <tr>\n",
       "      <th>stop</th>\n",
       "      <td>3872</td>\n",
       "    </tr>\n",
       "  </tbody>\n",
       "</table>\n",
       "</div>"
      ],
      "text/plain": [
       "         path\n",
       "keyword      \n",
       "down     3917\n",
       "follow   1579\n",
       "go       3880\n",
       "happy    2054\n",
       "marvin   2100\n",
       "stop     3872"
      ]
     },
     "execution_count": 8,
     "metadata": {},
     "output_type": "execute_result"
    }
   ],
   "source": [
    "# we only choose the keywords we want\n",
    "desired_keywords = [\"follow\", \"go\", \"happy\", \"marvin\", \"stop\", \"down\"]\n",
    "df = df[df[\"keyword\"].isin(desired_keywords)]\n",
    "print(\"Labels: \", df[\"keyword\"].unique())\n",
    "print()\n",
    "df.groupby(\"keyword\").count()[[\"path\"]]"
   ]
  },
  {
   "cell_type": "code",
   "execution_count": 9,
   "metadata": {},
   "outputs": [
    {
     "name": "stdout",
     "output_type": "stream",
     "text": [
      "ID Location: 8959\n",
      "      Label: go\n",
      "\n"
     ]
    },
    {
     "data": {
      "text/html": [
       "\n",
       "                <audio  controls=\"controls\" autoplay=\"autoplay\">\n",
       "                    <source src=\"data:audio/wav;base64,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\" type=\"audio/wav\" />\n",
       "                    Your browser does not support the audio element.\n",
       "                </audio>\n",
       "              "
      ],
      "text/plain": [
       "<IPython.lib.display.Audio object>"
      ]
     },
     "execution_count": 9,
     "metadata": {},
     "output_type": "execute_result"
    }
   ],
   "source": [
    "idx = np.random.randint(0, len(df))\n",
    "sample = df.iloc[idx]\n",
    "path = sample[\"path\"]\n",
    "label = sample[\"keyword\"]\n",
    "\n",
    "\n",
    "print(f\"ID Location: {idx}\")\n",
    "print(f\"      Label: {label}\")\n",
    "print()\n",
    "\n",
    "speech, sr = torchaudio.load(path)\n",
    "speech = speech[0].numpy().squeeze()\n",
    "# speech = librosa.resample(np.asarray(speech), sr, 16_000) # audio is already at 16kHz\n",
    "ipd.Audio(data=np.asarray(speech), autoplay=True, rate=16000)"
   ]
  },
  {
   "cell_type": "code",
   "execution_count": 10,
   "metadata": {},
   "outputs": [
    {
     "name": "stdout",
     "output_type": "stream",
     "text": [
      "(13921, 3)\n",
      "(3481, 3)\n"
     ]
    }
   ],
   "source": [
    "# create csv files to be used to load data\n",
    "save_path = \"gsr_v2_cleaned\"\n",
    "\n",
    "train_df, test_df = train_test_split(df, test_size=0.2, random_state=101, stratify=df[\"keyword\"])\n",
    "\n",
    "train_df = train_df.reset_index(drop=True)\n",
    "test_df = test_df.reset_index(drop=True)\n",
    "\n",
    "train_df.to_csv(f\"{save_path}/train.csv\", sep=\"\\t\", encoding=\"utf-8\", index=False)\n",
    "test_df.to_csv(f\"{save_path}/test.csv\", sep=\"\\t\", encoding=\"utf-8\", index=False)\n",
    "\n",
    "\n",
    "print(train_df.shape)\n",
    "print(test_df.shape)"
   ]
  },
  {
   "cell_type": "code",
   "execution_count": 11,
   "metadata": {},
   "outputs": [
    {
     "name": "stdout",
     "output_type": "stream",
     "text": [
      "Downloading and preparing dataset csv/default to C:/Users/eliot/.cache/huggingface/datasets/csv/default-a369859cf17b7845/0.0.0/6954658bab30a358235fa864b05cf819af0e179325c740e4bc853bcc7ec513e1...\n"
     ]
    },
    {
     "name": "stderr",
     "output_type": "stream",
     "text": [
      "Downloading data files: 100%|██████████| 2/2 [00:00<00:00, 2006.84it/s]\n",
      "Extracting data files: 100%|██████████| 2/2 [00:00<00:00, 167.12it/s]\n",
      "                                                             \r"
     ]
    },
    {
     "name": "stdout",
     "output_type": "stream",
     "text": [
      "Dataset csv downloaded and prepared to C:/Users/eliot/.cache/huggingface/datasets/csv/default-a369859cf17b7845/0.0.0/6954658bab30a358235fa864b05cf819af0e179325c740e4bc853bcc7ec513e1. Subsequent calls will reuse this data.\n"
     ]
    },
    {
     "name": "stderr",
     "output_type": "stream",
     "text": [
      "100%|██████████| 2/2 [00:00<00:00, 111.41it/s]"
     ]
    },
    {
     "name": "stdout",
     "output_type": "stream",
     "text": [
      "Dataset({\n",
      "    features: ['name', 'path', 'keyword'],\n",
      "    num_rows: 13921\n",
      "})\n",
      "Dataset({\n",
      "    features: ['name', 'path', 'keyword'],\n",
      "    num_rows: 3481\n",
      "})\n"
     ]
    },
    {
     "name": "stderr",
     "output_type": "stream",
     "text": [
      "\n"
     ]
    }
   ],
   "source": [
    "# Loading the created dataset using datasets\n",
    "\n",
    "data_files = {\n",
    "    \"train\": save_path+\"/train.csv\", \n",
    "    \"validation\": save_path+\"/test.csv\",\n",
    "}\n",
    "\n",
    "dataset = load_dataset(\"csv\", data_files=data_files, delimiter=\"\\t\", )\n",
    "train_dataset = dataset[\"train\"]\n",
    "eval_dataset = dataset[\"validation\"]\n",
    "\n",
    "print(train_dataset)\n",
    "print(eval_dataset)"
   ]
  },
  {
   "cell_type": "code",
   "execution_count": 12,
   "metadata": {},
   "outputs": [],
   "source": [
    "# We need to specify the input and output column\n",
    "input_column = \"path\"\n",
    "output_column = \"keyword\""
   ]
  },
  {
   "cell_type": "code",
   "execution_count": 13,
   "metadata": {},
   "outputs": [
    {
     "name": "stdout",
     "output_type": "stream",
     "text": [
      "A classification problem with 6 classes: ['down', 'follow', 'go', 'happy', 'marvin', 'stop']\n"
     ]
    }
   ],
   "source": [
    "# we need to distinguish the unique labels in our SER dataset\n",
    "label_list = train_dataset.unique(output_column)\n",
    "label_list.sort()  # Let's sort it for determinism\n",
    "num_labels = len(label_list)\n",
    "print(f\"A classification problem with {num_labels} classes: {label_list}\")"
   ]
  },
  {
   "cell_type": "code",
   "execution_count": 14,
   "metadata": {},
   "outputs": [],
   "source": [
    "from transformers import AutoConfig, Wav2Vec2Processor"
   ]
  },
  {
   "cell_type": "code",
   "execution_count": 15,
   "metadata": {},
   "outputs": [],
   "source": [
    "model_name_or_path = \"facebook/wav2vec2-base\""
   ]
  },
  {
   "cell_type": "code",
   "execution_count": 16,
   "metadata": {},
   "outputs": [
    {
     "name": "stderr",
     "output_type": "stream",
     "text": [
      "c:\\Users\\eliot\\anaconda3\\envs\\text2speech\\lib\\site-packages\\transformers\\configuration_utils.py:379: UserWarning: Passing `gradient_checkpointing` to a config initialization is deprecated and will be removed in v5 Transformers. Using `model.gradient_checkpointing_enable()` instead, or if you are using the `Trainer` API, pass `gradient_checkpointing=True` in your `TrainingArguments`.\n",
      "  warnings.warn(\n"
     ]
    }
   ],
   "source": [
    "config = AutoConfig.from_pretrained(\n",
    "    model_name_or_path,\n",
    "    num_labels=num_labels,\n",
    "    label2id={label: i for i, label in enumerate(label_list)},\n",
    "    id2label={i: label for i, label in enumerate(label_list)},\n",
    "    finetuning_task=\"wav2vec2_ks\",\n",
    ")"
   ]
  },
  {
   "cell_type": "code",
   "execution_count": 17,
   "metadata": {},
   "outputs": [
    {
     "name": "stdout",
     "output_type": "stream",
     "text": [
      "The target sampling rate: 16000\n"
     ]
    }
   ],
   "source": [
    "processor = Wav2Vec2Processor.from_pretrained(model_name_or_path,)\n",
    "target_sampling_rate = processor.feature_extractor.sampling_rate\n",
    "print(f\"The target sampling rate: {target_sampling_rate}\")"
   ]
  },
  {
   "cell_type": "code",
   "execution_count": 18,
   "metadata": {},
   "outputs": [],
   "source": [
    "def speech_file_to_array(path):\n",
    "    speech_array, sampling_rate = torchaudio.load(path)\n",
    "    resampler = torchaudio.transforms.Resample(sampling_rate, target_sampling_rate)\n",
    "    speech = resampler(speech_array).squeeze().numpy()\n",
    "    return speech"
   ]
  },
  {
   "cell_type": "code",
   "execution_count": 34,
   "metadata": {},
   "outputs": [],
   "source": [
    "def label_to_id(label, label_list):\n",
    "\n",
    "    if len(label_list) > 0:\n",
    "        return label_list.index(label) if label in label_list else -1\n",
    "    return label\n",
    "\n",
    "def preprocess_function(examples):\n",
    "    speech_list = [speech_file_to_array(path) for path in examples[input_column]]\n",
    "    target_list = [label_to_id(label, label_list) for label in examples[output_column]]\n",
    "\n",
    "    result = processor(speech_list, sampling_rate=target_sampling_rate, padding=True)\n",
    "    print(result)\n",
    "    result[\"labels\"] = list(target_list)\n",
    "\n",
    "    return result"
   ]
  },
  {
   "cell_type": "code",
   "execution_count": 20,
   "metadata": {},
   "outputs": [
    {
     "name": "stderr",
     "output_type": "stream",
     "text": [
      "                                                                   \r"
     ]
    }
   ],
   "source": [
    "train_dataset = train_dataset.map(\n",
    "    preprocess_function,\n",
    "    batch_size=100,\n",
    "    batched=True,\n",
    "    num_proc=1\n",
    ")\n",
    "eval_dataset = eval_dataset.map(\n",
    "    preprocess_function,\n",
    "    batch_size=100,\n",
    "    batched=True,\n",
    "    num_proc=1\n",
    ")"
   ]
  },
  {
   "cell_type": "code",
   "execution_count": 21,
   "metadata": {},
   "outputs": [
    {
     "data": {
      "text/plain": [
       "Dataset({\n",
       "    features: ['name', 'path', 'keyword', 'input_values', 'labels'],\n",
       "    num_rows: 13921\n",
       "})"
      ]
     },
     "execution_count": 21,
     "metadata": {},
     "output_type": "execute_result"
    }
   ],
   "source": [
    "train_dataset"
   ]
  },
  {
   "cell_type": "code",
   "execution_count": 31,
   "metadata": {},
   "outputs": [
    {
     "name": "stdout",
     "output_type": "stream",
     "text": [
      "Training input_values: 16000\n",
      "Training labels: 0 - down\n"
     ]
    }
   ],
   "source": [
    "idx = 0\n",
    "print(f\"Training input_values: {len(train_dataset[idx]['input_values'])}\")\n",
    "# print(f\"Training attention_mask: {train_dataset[idx]['attention_mask']}\")\n",
    "print(f\"Training labels: {train_dataset[idx]['labels']} - {train_dataset[idx]['keyword']}\")"
   ]
  },
  {
   "cell_type": "code",
   "execution_count": 23,
   "metadata": {},
   "outputs": [],
   "source": [
    "label2id, id2label = dict(), dict()\n",
    "for i, label in enumerate(label_list):\n",
    "    label2id[label] = str(i)\n",
    "    id2label[str(i)] = label"
   ]
  },
  {
   "cell_type": "code",
   "execution_count": 24,
   "metadata": {},
   "outputs": [
    {
     "data": {
      "text/plain": [
       "'go'"
      ]
     },
     "execution_count": 24,
     "metadata": {},
     "output_type": "execute_result"
    }
   ],
   "source": [
    "id2label[str(2)]"
   ]
  },
  {
   "cell_type": "code",
   "execution_count": 25,
   "metadata": {},
   "outputs": [],
   "source": [
    "import evaluate\n",
    "accuracy = evaluate.load(\"accuracy\")"
   ]
  },
  {
   "cell_type": "code",
   "execution_count": 26,
   "metadata": {},
   "outputs": [],
   "source": [
    "import numpy as np\n",
    "\n",
    "\n",
    "def compute_metrics(eval_pred):\n",
    "    predictions = np.argmax(eval_pred.predictions, axis=1)\n",
    "    return accuracy.compute(predictions=predictions, references=eval_pred.label_ids)"
   ]
  },
  {
   "cell_type": "code",
   "execution_count": 27,
   "metadata": {},
   "outputs": [
    {
     "name": "stderr",
     "output_type": "stream",
     "text": [
      "c:\\Users\\eliot\\anaconda3\\envs\\text2speech\\lib\\site-packages\\transformers\\configuration_utils.py:379: UserWarning: Passing `gradient_checkpointing` to a config initialization is deprecated and will be removed in v5 Transformers. Using `model.gradient_checkpointing_enable()` instead, or if you are using the `Trainer` API, pass `gradient_checkpointing=True` in your `TrainingArguments`.\n",
      "  warnings.warn(\n",
      "Some weights of the model checkpoint at facebook/wav2vec2-base were not used when initializing Wav2Vec2ForSequenceClassification: ['quantizer.codevectors', 'project_q.weight', 'project_q.bias', 'quantizer.weight_proj.weight', 'project_hid.weight', 'quantizer.weight_proj.bias', 'project_hid.bias']\n",
      "- This IS expected if you are initializing Wav2Vec2ForSequenceClassification from the checkpoint of a model trained on another task or with another architecture (e.g. initializing a BertForSequenceClassification model from a BertForPreTraining model).\n",
      "- This IS NOT expected if you are initializing Wav2Vec2ForSequenceClassification from the checkpoint of a model that you expect to be exactly identical (initializing a BertForSequenceClassification model from a BertForSequenceClassification model).\n",
      "Some weights of Wav2Vec2ForSequenceClassification were not initialized from the model checkpoint at facebook/wav2vec2-base and are newly initialized: ['projector.weight', 'classifier.weight', 'classifier.bias', 'projector.bias']\n",
      "You should probably TRAIN this model on a down-stream task to be able to use it for predictions and inference.\n"
     ]
    }
   ],
   "source": [
    "from transformers import AutoModelForAudioClassification, TrainingArguments, Trainer\n",
    "\n",
    "num_labels = len(id2label)\n",
    "model = AutoModelForAudioClassification.from_pretrained(\n",
    "    \"facebook/wav2vec2-base\", num_labels=num_labels, label2id=label2id, id2label=id2label\n",
    ")"
   ]
  },
  {
   "cell_type": "code",
   "execution_count": 37,
   "metadata": {},
   "outputs": [
    {
     "ename": "OSError",
     "evalue": "Token is required (`token=True`), but no token found. You need to provide a token or be logged in to Hugging Face with `huggingface-cli login` or `huggingface_hub.login`. See https://huggingface.co/settings/tokens.",
     "output_type": "error",
     "traceback": [
      "\u001b[1;31m---------------------------------------------------------------------------\u001b[0m",
      "\u001b[1;31mOSError\u001b[0m                                   Traceback (most recent call last)",
      "Cell \u001b[1;32mIn[37], line 17\u001b[0m\n\u001b[0;32m      1\u001b[0m training_args \u001b[39m=\u001b[39m TrainingArguments(\n\u001b[0;32m      2\u001b[0m     output_dir\u001b[39m=\u001b[39m\u001b[39m\"\u001b[39m\u001b[39mmy_awesome_mind_model\u001b[39m\u001b[39m\"\u001b[39m,\n\u001b[0;32m      3\u001b[0m     evaluation_strategy\u001b[39m=\u001b[39m\u001b[39m\"\u001b[39m\u001b[39mepoch\u001b[39m\u001b[39m\"\u001b[39m,\n\u001b[1;32m   (...)\u001b[0m\n\u001b[0;32m     14\u001b[0m     push_to_hub\u001b[39m=\u001b[39m\u001b[39mTrue\u001b[39;00m,\n\u001b[0;32m     15\u001b[0m )\n\u001b[1;32m---> 17\u001b[0m trainer \u001b[39m=\u001b[39m Trainer(\n\u001b[0;32m     18\u001b[0m     model\u001b[39m=\u001b[39;49mmodel,\n\u001b[0;32m     19\u001b[0m     args\u001b[39m=\u001b[39;49mtraining_args,\n\u001b[0;32m     20\u001b[0m     train_dataset\u001b[39m=\u001b[39;49mtrain_dataset,\n\u001b[0;32m     21\u001b[0m     eval_dataset\u001b[39m=\u001b[39;49meval_dataset,\n\u001b[0;32m     22\u001b[0m     tokenizer\u001b[39m=\u001b[39;49mprocessor,\n\u001b[0;32m     23\u001b[0m     compute_metrics\u001b[39m=\u001b[39;49mcompute_metrics,\n\u001b[0;32m     24\u001b[0m )\n\u001b[0;32m     26\u001b[0m trainer\u001b[39m.\u001b[39mtrain()\n",
      "File \u001b[1;32mc:\\Users\\eliot\\anaconda3\\envs\\text2speech\\lib\\site-packages\\transformers\\trainer.py:550\u001b[0m, in \u001b[0;36mTrainer.__init__\u001b[1;34m(self, model, args, data_collator, train_dataset, eval_dataset, tokenizer, model_init, compute_metrics, callbacks, optimizers, preprocess_logits_for_metrics)\u001b[0m\n\u001b[0;32m    548\u001b[0m \u001b[39m# Create clone of distant repo and output directory if needed\u001b[39;00m\n\u001b[0;32m    549\u001b[0m \u001b[39mif\u001b[39;00m \u001b[39mself\u001b[39m\u001b[39m.\u001b[39margs\u001b[39m.\u001b[39mpush_to_hub:\n\u001b[1;32m--> 550\u001b[0m     \u001b[39mself\u001b[39;49m\u001b[39m.\u001b[39;49minit_git_repo(at_init\u001b[39m=\u001b[39;49m\u001b[39mTrue\u001b[39;49;00m)\n\u001b[0;32m    551\u001b[0m     \u001b[39m# In case of pull, we need to make sure every process has the latest.\u001b[39;00m\n\u001b[0;32m    552\u001b[0m     \u001b[39mif\u001b[39;00m is_torch_tpu_available():\n",
      "File \u001b[1;32mc:\\Users\\eliot\\anaconda3\\envs\\text2speech\\lib\\site-packages\\transformers\\trainer.py:3492\u001b[0m, in \u001b[0;36mTrainer.init_git_repo\u001b[1;34m(self, at_init)\u001b[0m\n\u001b[0;32m   3490\u001b[0m     repo_name \u001b[39m=\u001b[39m \u001b[39mself\u001b[39m\u001b[39m.\u001b[39margs\u001b[39m.\u001b[39mhub_model_id\n\u001b[0;32m   3491\u001b[0m \u001b[39mif\u001b[39;00m \u001b[39m\"\u001b[39m\u001b[39m/\u001b[39m\u001b[39m\"\u001b[39m \u001b[39mnot\u001b[39;00m \u001b[39min\u001b[39;00m repo_name:\n\u001b[1;32m-> 3492\u001b[0m     repo_name \u001b[39m=\u001b[39m get_full_repo_name(repo_name, token\u001b[39m=\u001b[39;49m\u001b[39mself\u001b[39;49m\u001b[39m.\u001b[39;49margs\u001b[39m.\u001b[39;49mhub_token)\n\u001b[0;32m   3494\u001b[0m \u001b[39m# Make sure the repo exists.\u001b[39;00m\n\u001b[0;32m   3495\u001b[0m create_repo(repo_name, token\u001b[39m=\u001b[39m\u001b[39mself\u001b[39m\u001b[39m.\u001b[39margs\u001b[39m.\u001b[39mhub_token, private\u001b[39m=\u001b[39m\u001b[39mself\u001b[39m\u001b[39m.\u001b[39margs\u001b[39m.\u001b[39mhub_private_repo, exist_ok\u001b[39m=\u001b[39m\u001b[39mTrue\u001b[39;00m)\n",
      "File \u001b[1;32mc:\\Users\\eliot\\anaconda3\\envs\\text2speech\\lib\\site-packages\\transformers\\utils\\hub.py:795\u001b[0m, in \u001b[0;36mget_full_repo_name\u001b[1;34m(model_id, organization, token)\u001b[0m\n\u001b[0;32m    793\u001b[0m \u001b[39mdef\u001b[39;00m \u001b[39mget_full_repo_name\u001b[39m(model_id: \u001b[39mstr\u001b[39m, organization: Optional[\u001b[39mstr\u001b[39m] \u001b[39m=\u001b[39m \u001b[39mNone\u001b[39;00m, token: Optional[\u001b[39mstr\u001b[39m] \u001b[39m=\u001b[39m \u001b[39mNone\u001b[39;00m):\n\u001b[0;32m    794\u001b[0m     \u001b[39mif\u001b[39;00m organization \u001b[39mis\u001b[39;00m \u001b[39mNone\u001b[39;00m:\n\u001b[1;32m--> 795\u001b[0m         username \u001b[39m=\u001b[39m whoami(token)[\u001b[39m\"\u001b[39m\u001b[39mname\u001b[39m\u001b[39m\"\u001b[39m]\n\u001b[0;32m    796\u001b[0m         \u001b[39mreturn\u001b[39;00m \u001b[39mf\u001b[39m\u001b[39m\"\u001b[39m\u001b[39m{\u001b[39;00musername\u001b[39m}\u001b[39;00m\u001b[39m/\u001b[39m\u001b[39m{\u001b[39;00mmodel_id\u001b[39m}\u001b[39;00m\u001b[39m\"\u001b[39m\n\u001b[0;32m    797\u001b[0m     \u001b[39melse\u001b[39;00m:\n",
      "File \u001b[1;32mc:\\Users\\eliot\\anaconda3\\envs\\text2speech\\lib\\site-packages\\huggingface_hub\\hf_api.py:843\u001b[0m, in \u001b[0;36mHfApi.whoami\u001b[1;34m(self, token)\u001b[0m\n\u001b[0;32m    832\u001b[0m \u001b[39mdef\u001b[39;00m \u001b[39mwhoami\u001b[39m(\u001b[39mself\u001b[39m, token: Optional[\u001b[39mstr\u001b[39m] \u001b[39m=\u001b[39m \u001b[39mNone\u001b[39;00m) \u001b[39m-\u001b[39m\u001b[39m>\u001b[39m Dict:\n\u001b[0;32m    833\u001b[0m \u001b[39m    \u001b[39m\u001b[39m\"\"\"\u001b[39;00m\n\u001b[0;32m    834\u001b[0m \u001b[39m    Call HF API to know \"whoami\".\u001b[39;00m\n\u001b[0;32m    835\u001b[0m \n\u001b[1;32m   (...)\u001b[0m\n\u001b[0;32m    839\u001b[0m \u001b[39m            not provided.\u001b[39;00m\n\u001b[0;32m    840\u001b[0m \u001b[39m    \"\"\"\u001b[39;00m\n\u001b[0;32m    841\u001b[0m     r \u001b[39m=\u001b[39m get_session()\u001b[39m.\u001b[39mget(\n\u001b[0;32m    842\u001b[0m         \u001b[39mf\u001b[39m\u001b[39m\"\u001b[39m\u001b[39m{\u001b[39;00m\u001b[39mself\u001b[39m\u001b[39m.\u001b[39mendpoint\u001b[39m}\u001b[39;00m\u001b[39m/api/whoami-v2\u001b[39m\u001b[39m\"\u001b[39m,\n\u001b[1;32m--> 843\u001b[0m         headers\u001b[39m=\u001b[39m\u001b[39mself\u001b[39;49m\u001b[39m.\u001b[39;49m_build_hf_headers(\n\u001b[0;32m    844\u001b[0m             \u001b[39m# If `token` is provided and not `None`, it will be used by default.\u001b[39;49;00m\n\u001b[0;32m    845\u001b[0m             \u001b[39m# Otherwise, the token must be retrieved from cache or env variable.\u001b[39;49;00m\n\u001b[0;32m    846\u001b[0m             token\u001b[39m=\u001b[39;49m(token \u001b[39mor\u001b[39;49;00m \u001b[39mself\u001b[39;49m\u001b[39m.\u001b[39;49mtoken \u001b[39mor\u001b[39;49;00m \u001b[39mTrue\u001b[39;49;00m),\n\u001b[0;32m    847\u001b[0m         ),\n\u001b[0;32m    848\u001b[0m     )\n\u001b[0;32m    849\u001b[0m     \u001b[39mtry\u001b[39;00m:\n\u001b[0;32m    850\u001b[0m         hf_raise_for_status(r)\n",
      "File \u001b[1;32mc:\\Users\\eliot\\anaconda3\\envs\\text2speech\\lib\\site-packages\\huggingface_hub\\hf_api.py:4732\u001b[0m, in \u001b[0;36mHfApi._build_hf_headers\u001b[1;34m(self, token, is_write_action, library_name, library_version, user_agent)\u001b[0m\n\u001b[0;32m   4729\u001b[0m \u001b[39mif\u001b[39;00m token \u001b[39mis\u001b[39;00m \u001b[39mNone\u001b[39;00m:\n\u001b[0;32m   4730\u001b[0m     \u001b[39m# Cannot do `token = token or self.token` as token can be `False`.\u001b[39;00m\n\u001b[0;32m   4731\u001b[0m     token \u001b[39m=\u001b[39m \u001b[39mself\u001b[39m\u001b[39m.\u001b[39mtoken\n\u001b[1;32m-> 4732\u001b[0m \u001b[39mreturn\u001b[39;00m build_hf_headers(\n\u001b[0;32m   4733\u001b[0m     token\u001b[39m=\u001b[39;49mtoken,\n\u001b[0;32m   4734\u001b[0m     is_write_action\u001b[39m=\u001b[39;49mis_write_action,\n\u001b[0;32m   4735\u001b[0m     library_name\u001b[39m=\u001b[39;49mlibrary_name \u001b[39mor\u001b[39;49;00m \u001b[39mself\u001b[39;49m\u001b[39m.\u001b[39;49mlibrary_name,\n\u001b[0;32m   4736\u001b[0m     library_version\u001b[39m=\u001b[39;49mlibrary_version \u001b[39mor\u001b[39;49;00m \u001b[39mself\u001b[39;49m\u001b[39m.\u001b[39;49mlibrary_version,\n\u001b[0;32m   4737\u001b[0m     user_agent\u001b[39m=\u001b[39;49muser_agent \u001b[39mor\u001b[39;49;00m \u001b[39mself\u001b[39;49m\u001b[39m.\u001b[39;49muser_agent,\n\u001b[0;32m   4738\u001b[0m )\n",
      "File \u001b[1;32mc:\\Users\\eliot\\anaconda3\\envs\\text2speech\\lib\\site-packages\\huggingface_hub\\utils\\_validators.py:120\u001b[0m, in \u001b[0;36mvalidate_hf_hub_args.<locals>._inner_fn\u001b[1;34m(*args, **kwargs)\u001b[0m\n\u001b[0;32m    117\u001b[0m \u001b[39mif\u001b[39;00m check_use_auth_token:\n\u001b[0;32m    118\u001b[0m     kwargs \u001b[39m=\u001b[39m smoothly_deprecate_use_auth_token(fn_name\u001b[39m=\u001b[39mfn\u001b[39m.\u001b[39m\u001b[39m__name__\u001b[39m, has_token\u001b[39m=\u001b[39mhas_token, kwargs\u001b[39m=\u001b[39mkwargs)\n\u001b[1;32m--> 120\u001b[0m \u001b[39mreturn\u001b[39;00m fn(\u001b[39m*\u001b[39margs, \u001b[39m*\u001b[39m\u001b[39m*\u001b[39mkwargs)\n",
      "File \u001b[1;32mc:\\Users\\eliot\\anaconda3\\envs\\text2speech\\lib\\site-packages\\huggingface_hub\\utils\\_headers.py:117\u001b[0m, in \u001b[0;36mbuild_hf_headers\u001b[1;34m(token, is_write_action, library_name, library_version, user_agent)\u001b[0m\n\u001b[0;32m     44\u001b[0m \u001b[39m\u001b[39m\u001b[39m\"\"\"\u001b[39;00m\n\u001b[0;32m     45\u001b[0m \u001b[39mBuild headers dictionary to send in a HF Hub call.\u001b[39;00m\n\u001b[0;32m     46\u001b[0m \n\u001b[1;32m   (...)\u001b[0m\n\u001b[0;32m    114\u001b[0m \u001b[39m        If `token=True` but token is not saved locally.\u001b[39;00m\n\u001b[0;32m    115\u001b[0m \u001b[39m\"\"\"\u001b[39;00m\n\u001b[0;32m    116\u001b[0m \u001b[39m# Get auth token to send\u001b[39;00m\n\u001b[1;32m--> 117\u001b[0m token_to_send \u001b[39m=\u001b[39m get_token_to_send(token)\n\u001b[0;32m    118\u001b[0m _validate_token_to_send(token_to_send, is_write_action\u001b[39m=\u001b[39mis_write_action)\n\u001b[0;32m    120\u001b[0m \u001b[39m# Combine headers\u001b[39;00m\n",
      "File \u001b[1;32mc:\\Users\\eliot\\anaconda3\\envs\\text2speech\\lib\\site-packages\\huggingface_hub\\utils\\_headers.py:149\u001b[0m, in \u001b[0;36mget_token_to_send\u001b[1;34m(token)\u001b[0m\n\u001b[0;32m    147\u001b[0m \u001b[39mif\u001b[39;00m token \u001b[39mis\u001b[39;00m \u001b[39mTrue\u001b[39;00m:\n\u001b[0;32m    148\u001b[0m     \u001b[39mif\u001b[39;00m cached_token \u001b[39mis\u001b[39;00m \u001b[39mNone\u001b[39;00m:\n\u001b[1;32m--> 149\u001b[0m         \u001b[39mraise\u001b[39;00m \u001b[39mEnvironmentError\u001b[39;00m(\n\u001b[0;32m    150\u001b[0m             \u001b[39m\"\u001b[39m\u001b[39mToken is required (`token=True`), but no token found. You\u001b[39m\u001b[39m\"\u001b[39m\n\u001b[0;32m    151\u001b[0m             \u001b[39m\"\u001b[39m\u001b[39m need to provide a token or be logged in to Hugging Face with\u001b[39m\u001b[39m\"\u001b[39m\n\u001b[0;32m    152\u001b[0m             \u001b[39m\"\u001b[39m\u001b[39m `huggingface-cli login` or `huggingface_hub.login`. See\u001b[39m\u001b[39m\"\u001b[39m\n\u001b[0;32m    153\u001b[0m             \u001b[39m\"\u001b[39m\u001b[39m https://huggingface.co/settings/tokens.\u001b[39m\u001b[39m\"\u001b[39m\n\u001b[0;32m    154\u001b[0m         )\n\u001b[0;32m    155\u001b[0m     \u001b[39mreturn\u001b[39;00m cached_token\n\u001b[0;32m    157\u001b[0m \u001b[39m# Case implicit use of the token is forbidden by env variable\u001b[39;00m\n",
      "\u001b[1;31mOSError\u001b[0m: Token is required (`token=True`), but no token found. You need to provide a token or be logged in to Hugging Face with `huggingface-cli login` or `huggingface_hub.login`. See https://huggingface.co/settings/tokens."
     ]
    }
   ],
   "source": [
    "training_args = TrainingArguments(\n",
    "    output_dir=\"my_awesome_mind_model\",\n",
    "    evaluation_strategy=\"epoch\",\n",
    "    save_strategy=\"epoch\",\n",
    "    learning_rate=3e-5,\n",
    "    per_device_train_batch_size=32,\n",
    "    gradient_accumulation_steps=4,\n",
    "    per_device_eval_batch_size=32,\n",
    "    num_train_epochs=10,\n",
    "    warmup_ratio=0.1,\n",
    "    logging_steps=10,\n",
    "    load_best_model_at_end=True,\n",
    "    metric_for_best_model=\"accuracy\",\n",
    "    push_to_hub=True,\n",
    ")\n",
    "\n",
    "trainer = Trainer(\n",
    "    model=model,\n",
    "    args=training_args,\n",
    "    train_dataset=train_dataset,\n",
    "    eval_dataset=eval_dataset,\n",
    "    tokenizer=processor,\n",
    "    compute_metrics=compute_metrics,\n",
    ")\n",
    "\n",
    "trainer.train()"
   ]
  }
 ],
 "metadata": {
  "kernelspec": {
   "display_name": "text2speech",
   "language": "python",
   "name": "python3"
  },
  "language_info": {
   "codemirror_mode": {
    "name": "ipython",
    "version": 3
   },
   "file_extension": ".py",
   "mimetype": "text/x-python",
   "name": "python",
   "nbconvert_exporter": "python",
   "pygments_lexer": "ipython3",
   "version": "3.9.16 (main, Mar  8 2023, 10:39:24) [MSC v.1916 64 bit (AMD64)]"
  },
  "orig_nbformat": 4,
  "vscode": {
   "interpreter": {
    "hash": "95375f9604dfb042fa7648be02c21d614746169526a3e6142409e3c204ec53c4"
   }
  }
 },
 "nbformat": 4,
 "nbformat_minor": 2
}
