{
 "cells": [
  {
   "cell_type": "code",
   "execution_count": 8,
   "metadata": {},
   "outputs": [],
   "source": [
    "import threading\n",
    "import pyaudio\n",
    "import wave\n",
    "from time import sleep\n",
    "import sounddevice as sd\n",
    "import soundfile as sf\n",
    "import os"
   ]
  },
  {
   "cell_type": "code",
   "execution_count": 12,
   "metadata": {},
   "outputs": [
    {
     "name": "stderr",
     "output_type": "stream",
     "text": [
      "Exception in thread Thread-18:\n",
      "Traceback (most recent call last):\n",
      "  File \"c:\\Users\\eliot\\anaconda3\\envs\\semproj\\lib\\threading.py\", line 980, in _bootstrap_inner\n",
      "    self.run()\n",
      "  File \"c:\\Users\\eliot\\anaconda3\\envs\\semproj\\lib\\threading.py\", line 917, in run\n",
      "    self._target(*self._args, **self._kwargs)\n",
      "  File \"C:\\Users\\eliot\\AppData\\Local\\Temp\\ipykernel_15568\\4081785010.py\", line 33, in record_microphone\n",
      "  File \"c:\\Users\\eliot\\anaconda3\\envs\\semproj\\lib\\site-packages\\sounddevice.py\", line 268, in rec\n",
      "    out, ctx.frames = ctx.check_out(out, frames, channels, dtype, mapping)\n",
      "  File \"c:\\Users\\eliot\\anaconda3\\envs\\semproj\\lib\\site-packages\\sounddevice.py\", line 2514, in check_out\n",
      "    raise TypeError(\n",
      "TypeError: Unable to determine number of input channels\n",
      "Exception in thread Thread-17:\n",
      "Traceback (most recent call last):\n",
      "  File \"c:\\Users\\eliot\\anaconda3\\envs\\semproj\\lib\\threading.py\", line 980, in _bootstrap_inner\n",
      "    self.run()\n",
      "  File \"c:\\Users\\eliot\\anaconda3\\envs\\semproj\\lib\\threading.py\", line 917, in run\n",
      "    self._target(*self._args, **self._kwargs)\n",
      "  File \"C:\\Users\\eliot\\AppData\\Local\\Temp\\ipykernel_15568\\4081785010.py\", line 33, in record_microphone\n",
      "  File \"c:\\Users\\eliot\\anaconda3\\envs\\semproj\\lib\\site-packages\\sounddevice.py\", line 268, in rec\n",
      "    out, ctx.frames = ctx.check_out(out, frames, channels, dtype, mapping)\n",
      "  File \"c:\\Users\\eliot\\anaconda3\\envs\\semproj\\lib\\site-packages\\sounddevice.py\", line 2514, in check_out\n",
      "    raise TypeError(\n",
      "TypeError: Unable to determine number of input channels\n"
     ]
    }
   ],
   "source": [
    "if os.path.exists(\"recording_1.wav\"):\n",
    "    os.remove(\"recording_1.wav\")\n",
    "\n",
    "if os.path.exists(\"recording_2.wav\"):\n",
    "    os.remove(\"recording_2.wav\")\n",
    "\n",
    "# Set up parameters for recording\n",
    "duration_sec = 1\n",
    "sample_rate = 44100\n",
    "channels = 1\n",
    "blocksize = 1024\n",
    "\n",
    "# Find the index of the USB microphones\n",
    "mic_index_1 = None\n",
    "mic_index_2 = None\n",
    "devices = sd.query_devices()\n",
    "# for i, dev in enumerate(devices):\n",
    "#     if dev[\"max_input_channels\"] > 0 and \"USB\" in dev[\"name\"]:\n",
    "#         if mic_index_1 is None:\n",
    "#             mic_index_1 = i\n",
    "#         else:\n",
    "#             mic_index_2 = i\n",
    "#             break\n",
    "\n",
    "mic_index_1 = 35\n",
    "mic_index_2 = 36\n",
    "\n",
    "# Define a function for recording audio from one microphone\n",
    "def record_microphone(device_index, filename):\n",
    "    with sf.SoundFile(filename, mode='x', samplerate=sample_rate, channels=channels) as file:\n",
    "        with sd.InputStream(device=device_index, channels=channels, samplerate=sample_rate):\n",
    "            while True:\n",
    "                data, overflowed = sd.rec(int(blocksize), blocking=True)\n",
    "                if overflowed:\n",
    "                    print(\"Overflow occurred!\")\n",
    "                file.write(data)\n",
    "\n",
    "# Start recording from both microphones in separate threads\n",
    "thread_1 = threading.Thread(target=record_microphone, args=(mic_index_1, 'recording_1.wav'))\n",
    "thread_2 = threading.Thread(target=record_microphone, args=(mic_index_2, 'recording_2.wav'))\n",
    "thread_1.start()\n",
    "thread_2.start()\n",
    "\n",
    "# Wait for both threads to finish\n",
    "thread_1.join()\n",
    "thread_2.join()\n"
   ]
  },
  {
   "cell_type": "code",
   "execution_count": 3,
   "metadata": {},
   "outputs": [
    {
     "data": {
      "text/plain": [
       "   0 Microsoft Sound Mapper - Input, MME (2 in, 0 out)\n",
       ">  1 Microphone (2- Sandberg 126-20), MME (2 in, 0 out)\n",
       "   2 Headset Microphone (HyperX Virt, MME (2 in, 0 out)\n",
       "   3 Microphone (Sandberg 126-20), MME (2 in, 0 out)\n",
       "   4 Microsoft Sound Mapper - Output, MME (0 in, 2 out)\n",
       "<  5 Haut-parleurs (2- Sandberg 126-, MME (0 in, 2 out)\n",
       "   6 Headset Earphone (HyperX Virtua, MME (0 in, 2 out)\n",
       "   7 Realtek Digital Output (Realtek, MME (0 in, 2 out)\n",
       "   8 C24F390 (NVIDIA High Definition, MME (0 in, 2 out)\n",
       "   9 Haut-parleurs (Realtek(R) Audio, MME (0 in, 2 out)\n",
       "  10 Haut-parleurs (Sandberg 126-20), MME (0 in, 2 out)\n",
       "  11 ROG PG278QR (NVIDIA High Defini, MME (0 in, 2 out)\n",
       "  12 Pilote de capture audio principal, Windows DirectSound (2 in, 0 out)\n",
       "  13 Microphone (2- Sandberg 126-20), Windows DirectSound (2 in, 0 out)\n",
       "  14 Headset Microphone (HyperX Virtual Surround Sound), Windows DirectSound (2 in, 0 out)\n",
       "  15 Microphone (Sandberg 126-20), Windows DirectSound (2 in, 0 out)\n",
       "  16 Périphérique audio principal, Windows DirectSound (0 in, 2 out)\n",
       "  17 Haut-parleurs (2- Sandberg 126-20), Windows DirectSound (0 in, 2 out)\n",
       "  18 Headset Earphone (HyperX Virtual Surround Sound), Windows DirectSound (0 in, 2 out)\n",
       "  19 Realtek Digital Output (Realtek(R) Audio), Windows DirectSound (0 in, 2 out)\n",
       "  20 C24F390 (NVIDIA High Definition Audio), Windows DirectSound (0 in, 2 out)\n",
       "  21 Haut-parleurs (Realtek(R) Audio), Windows DirectSound (0 in, 2 out)\n",
       "  22 Haut-parleurs (Sandberg 126-20), Windows DirectSound (0 in, 2 out)\n",
       "  23 ROG PG278QR (NVIDIA High Definition Audio), Windows DirectSound (0 in, 2 out)\n",
       "  24 ASIO4ALL v2, ASIO (2 in, 8 out)\n",
       "  25 FL Studio ASIO, ASIO (2 in, 2 out)\n",
       "  26 Realtek ASIO, ASIO (2 in, 2 out)\n",
       "  27 Headset Earphone (HyperX Virtual Surround Sound), Windows WASAPI (0 in, 2 out)\n",
       "  28 Realtek Digital Output (Realtek(R) Audio), Windows WASAPI (0 in, 2 out)\n",
       "  29 C24F390 (NVIDIA High Definition Audio), Windows WASAPI (0 in, 2 out)\n",
       "  30 Haut-parleurs (2- Sandberg 126-20), Windows WASAPI (0 in, 2 out)\n",
       "  31 Haut-parleurs (Realtek(R) Audio), Windows WASAPI (0 in, 2 out)\n",
       "  32 Haut-parleurs (Sandberg 126-20), Windows WASAPI (0 in, 2 out)\n",
       "  33 ROG PG278QR (NVIDIA High Definition Audio), Windows WASAPI (0 in, 2 out)\n",
       "  34 Headset Microphone (HyperX Virtual Surround Sound), Windows WASAPI (2 in, 0 out)\n",
       "  35 Microphone (Sandberg 126-20), Windows WASAPI (1 in, 0 out)\n",
       "  36 Microphone (2- Sandberg 126-20), Windows WASAPI (1 in, 0 out)\n",
       "  37 Speakers (Realtek HD Audio output), Windows WDM-KS (0 in, 8 out)\n",
       "  38 Microphone (Realtek HD Audio Mic input), Windows WDM-KS (2 in, 0 out)\n",
       "  39 SPDIF Out (Realtek HDA SPDIF Out), Windows WDM-KS (0 in, 2 out)\n",
       "  40 Mixage stéréo (Realtek HD Audio Stereo input), Windows WDM-KS (2 in, 0 out)\n",
       "  41 Entrée ligne (Realtek HD Audio Line input), Windows WDM-KS (2 in, 0 out)\n",
       "  42 Microphone sur casque (HyperX Virtual Surround Sound), Windows WDM-KS (2 in, 0 out)\n",
       "  43 Casque pour téléphone (HyperX Virtual Surround Sound), Windows WDM-KS (0 in, 2 out)\n",
       "  44 Output (NVIDIA High Definition Audio), Windows WDM-KS (0 in, 2 out)\n",
       "  45 Output (), Windows WDM-KS (0 in, 2 out)\n",
       "  46 Haut-parleurs (Sandberg 126-20), Windows WDM-KS (0 in, 2 out)\n",
       "  47 Microphone (Sandberg 126-20), Windows WDM-KS (1 in, 0 out)\n",
       "  48 Haut-parleurs (Sandberg 126-20), Windows WDM-KS (0 in, 2 out)\n",
       "  49 Microphone (Sandberg 126-20), Windows WDM-KS (1 in, 0 out)"
      ]
     },
     "execution_count": 3,
     "metadata": {},
     "output_type": "execute_result"
    }
   ],
   "source": [
    "devices"
   ]
  },
  {
   "cell_type": "code",
   "execution_count": null,
   "metadata": {},
   "outputs": [],
   "source": []
  }
 ],
 "metadata": {
  "kernelspec": {
   "display_name": "semproj",
   "language": "python",
   "name": "python3"
  },
  "language_info": {
   "codemirror_mode": {
    "name": "ipython",
    "version": 3
   },
   "file_extension": ".py",
   "mimetype": "text/x-python",
   "name": "python",
   "nbconvert_exporter": "python",
   "pygments_lexer": "ipython3",
   "version": "3.9.16 (main, Jan 11 2023, 16:16:36) [MSC v.1916 64 bit (AMD64)]"
  },
  "orig_nbformat": 4,
  "vscode": {
   "interpreter": {
    "hash": "6a1eca162d8244ec663334057c1610a3bae01391a28d85af84dac413dee83203"
   }
  }
 },
 "nbformat": 4,
 "nbformat_minor": 2
}
